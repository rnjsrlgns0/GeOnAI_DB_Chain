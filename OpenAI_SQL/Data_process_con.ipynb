{
 "cells": [
  {
   "cell_type": "markdown",
   "metadata": {},
   "source": [
    "# 말하는 지도의 예시를 데이터입니다.\n",
    "- GIS건물통합정보, vworld"
   ]
  },
  {
   "cell_type": "code",
   "execution_count": 52,
   "metadata": {},
   "outputs": [
    {
     "name": "stderr",
     "output_type": "stream",
     "text": [
      "/var/folders/_p/b25fmdzs0gs_7l54_j6744sm0000gn/T/ipykernel_83654/2125534598.py:3: DtypeWarning: Columns (9,11,20) have mixed types. Specify dtype option on import or set low_memory=False.\n",
      "  df = pd.read_csv('../trial_data/al_d010_new_202406131145.csv')\n"
     ]
    },
    {
     "name": "stdout",
     "output_type": "stream",
     "text": [
      "<class 'pandas.core.frame.DataFrame'>\n",
      "RangeIndex: 14392440 entries, 0 to 14392439\n",
      "Data columns (total 31 columns):\n",
      " #   Column  Dtype  \n",
      "---  ------  -----  \n",
      " 0   gid     int64  \n",
      " 1   a0      int64  \n",
      " 2   a1      object \n",
      " 3   a2      int64  \n",
      " 4   a3      int64  \n",
      " 5   a4      object \n",
      " 6   a5      object \n",
      " 7   a6      int64  \n",
      " 8   a7      object \n",
      " 9   a8      object \n",
      " 10  a9      object \n",
      " 11  a10     object \n",
      " 12  a11     object \n",
      " 13  a12     float64\n",
      " 14  a13     object \n",
      " 15  a14     float64\n",
      " 16  a15     float64\n",
      " 17  a16     float64\n",
      " 18  a17     float64\n",
      " 19  a18     float64\n",
      " 20  a19     object \n",
      " 21  a20     object \n",
      " 22  a21     object \n",
      " 23  a22     object \n",
      " 24  a23     int64  \n",
      " 25  a24     object \n",
      " 26  a25     object \n",
      " 27  a26     float64\n",
      " 28  a27     float64\n",
      " 29  a28     object \n",
      " 30  geom    object \n",
      "dtypes: float64(8), int64(6), object(17)\n",
      "memory usage: 3.3+ GB\n"
     ]
    }
   ],
   "source": [
    "import pandas as pd\n",
    "import geopandas as gpd\n",
    "df = pd.read_csv('../trial_data/al_d010_new_202406131145.csv')\n",
    "df.info()"
   ]
  },
  {
   "cell_type": "markdown",
   "metadata": {},
   "source": [
    "# 컬럼정의서를 보아하니 a14컬럼이 사용승인일인듯 합니다."
   ]
  },
  {
   "cell_type": "code",
   "execution_count": 53,
   "metadata": {},
   "outputs": [
    {
     "name": "stdout",
     "output_type": "stream",
     "text": [
      "gid 0.0\n",
      "a0 0.0\n",
      "a1 6.948092192845688e-08\n",
      "a2 0.0\n",
      "a3 0.0\n",
      "a4 0.0039887607660688525\n",
      "a5 0.0\n",
      "a6 0.0\n",
      "a7 0.0\n",
      "a8 0.5560820125010075\n",
      "a9 0.556693305652134\n",
      "a10 0.5550713430106361\n",
      "a11 0.5558964289585365\n",
      "a12 4.342557620528555e-05\n",
      "a13 0.584525278549016\n",
      "a14 1.11169475085531e-06\n",
      "a15 0.0023763864917970825\n",
      "a16 0.00014785540186375626\n",
      "a17 0.002416615945593659\n",
      "a18 0.002444894680818541\n",
      "a19 0.5537241774153653\n",
      "a20 0.5552975034115133\n",
      "a21 0.10724956991309326\n",
      "a22 0.0\n",
      "a23 0.0\n",
      "a24 0.9437201058333403\n",
      "a25 0.9050740527665914\n",
      "a26 3.487942280808535e-05\n",
      "a27 0.003190702896798597\n",
      "a28 0.3941116308284071\n",
      "geom 0.0\n"
     ]
    }
   ],
   "source": [
    "pd.set_option('display.max_columns', None)\n",
    "for col in df.columns:\n",
    "    print(col, df[col].isna().sum()/len(df))"
   ]
  },
  {
   "cell_type": "code",
   "execution_count": 54,
   "metadata": {},
   "outputs": [],
   "source": [
    "li_col = [\n",
    "        'gid',\n",
    "        '원천도형ID',\n",
    "        'GIS건물통합식별번호',\n",
    "        '고유번호',\n",
    "        '법정동코드',\n",
    "        '법정동명',\n",
    "        '지번',\n",
    "        '특수지코드',\n",
    "        '특수지구분명',\n",
    "        '건축물용도코드',\n",
    "        '건축물용도명',\n",
    "        '건축물구조코드',\n",
    "        '건축물구조명',\n",
    "        '건축물면적(㎡)',\n",
    "        '사용승인일자',\n",
    "        '연면적',\n",
    "        '대지면적(㎡)',\n",
    "        '높이(m)',\n",
    "        '건폐율(%)',\n",
    "        '용적율(%)',\n",
    "        '건축물ID',\n",
    "        '위반건축물여부',\n",
    "        '참조체계연계키',\n",
    "        '데이터기준일자',\n",
    "        '원천시도시군구코드',\n",
    "        '건물명',\n",
    "        '건물동명',\n",
    "        '지상층_수',\n",
    "        '지하층_수',\n",
    "        '데이터생성변경일자',\n",
    "        'geom'\n",
    "]"
   ]
  },
  {
   "cell_type": "markdown",
   "metadata": {},
   "source": [
    "# 사용승인 일자가 있는 데이터만 추출 "
   ]
  },
  {
   "cell_type": "code",
   "execution_count": 55,
   "metadata": {},
   "outputs": [
    {
     "name": "stdout",
     "output_type": "stream",
     "text": [
      "5979695\n",
      "14392440\n"
     ]
    }
   ],
   "source": [
    "df.columns = li_col\n",
    "print(len(df.loc[~df['사용승인일자'].isna()]))\n",
    "print(len(df))"
   ]
  },
  {
   "cell_type": "markdown",
   "metadata": {},
   "source": [
    "# 그냥 일단 사용승인일자가 없는 경우 무시, 사용승인 후 연도 계산 컴럼 생성"
   ]
  },
  {
   "cell_type": "code",
   "execution_count": 56,
   "metadata": {},
   "outputs": [],
   "source": [
    "df['사용승인일자'] = df['사용승인일자'].fillna('9999')\n",
    "df['사용승인연도'] = df['사용승인일자'].apply(lambda x: int(x.split('-')[0]))\n",
    "df['건축물나이'] = df['사용승인연도'].apply(lambda x : 2024-x)"
   ]
  },
  {
   "cell_type": "code",
   "execution_count": 59,
   "metadata": {},
   "outputs": [],
   "source": [
    "df.to_csv('../trial_data/GIS_con_data.csv', index=False, encoding = 'utf-8')"
   ]
  },
  {
   "cell_type": "code",
   "execution_count": null,
   "metadata": {},
   "outputs": [],
   "source": []
  }
 ],
 "metadata": {
  "kernelspec": {
   "display_name": "Teddy",
   "language": "python",
   "name": "python3"
  },
  "language_info": {
   "codemirror_mode": {
    "name": "ipython",
    "version": 3
   },
   "file_extension": ".py",
   "mimetype": "text/x-python",
   "name": "python",
   "nbconvert_exporter": "python",
   "pygments_lexer": "ipython3",
   "version": "3.11.9"
  }
 },
 "nbformat": 4,
 "nbformat_minor": 2
}
